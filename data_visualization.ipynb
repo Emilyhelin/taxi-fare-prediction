{
 "cells": [
  {
   "cell_type": "markdown",
   "metadata": {
    "application/vnd.databricks.v1+cell": {
     "cellMetadata": {},
     "inputWidgets": {},
     "nuid": "8577dfa4-7284-42d9-b696-a2a15a2a8acd",
     "showTitle": false,
     "title": ""
    }
   },
   "source": [
    "### Data Visualisation"
   ]
  },
  {
   "cell_type": "code",
   "execution_count": 0,
   "metadata": {
    "application/vnd.databricks.v1+cell": {
     "cellMetadata": {
      "byteLimit": 2048000,
      "rowLimit": 10000
     },
     "inputWidgets": {},
     "nuid": "154f200a-a8bc-4297-a5c7-2ab1a98fd621",
     "showTitle": false,
     "title": ""
    }
   },
   "outputs": [],
   "source": [
    "!pip install statsmodels"
   ]
  },
  {
   "cell_type": "code",
   "execution_count": 0,
   "metadata": {
    "application/vnd.databricks.v1+cell": {
     "cellMetadata": {
      "byteLimit": 2048000,
      "rowLimit": 10000
     },
     "inputWidgets": {},
     "nuid": "1ea71d9a-450b-4214-b119-81fe7c0901ff",
     "showTitle": false,
     "title": ""
    }
   },
   "outputs": [],
   "source": [
    "(sc, spark)"
   ]
  },
  {
   "cell_type": "code",
   "execution_count": 0,
   "metadata": {
    "application/vnd.databricks.v1+cell": {
     "cellMetadata": {
      "byteLimit": 2048000,
      "rowLimit": 10000
     },
     "inputWidgets": {},
     "nuid": "0a184783-3aa6-46bf-929c-ae8d42324b44",
     "showTitle": false,
     "title": ""
    }
   },
   "outputs": [],
   "source": [
    "from pyspark.sql import SparkSession\n",
    "\n",
    "spark = SparkSession \\\n",
    "    .builder \\\n",
    "    .master(\"local[*]\") \\\n",
    "    .appName(\"MLlib lab\") \\\n",
    "    .getOrCreate()\n",
    "    \n",
    "# swith the latest spark version to older one so that it tolerates some data format issues\n",
    "spark.conf.set(\"spark.sql.legacy.timeParserPolicy\", \"LEGACY\")\n",
    "\n",
    "\"\"\" \n",
    "in order to avoid \"Parquet column cannot be converted\" error, we need to disable vectorized reader when we have decimal values in our columns. \n",
    "refer to https://learn.microsoft.com/en-us/answers/questions/853861/parquet-column-cannot-be-converted for further info\n",
    "\"\"\"\n",
    "# spark.conf.set(\"spark.sql.parquet.enableVectorizedReader\", \"false\") \n",
    "\n",
    "sc = spark.sparkContext\n"
   ]
  },
  {
   "cell_type": "code",
   "execution_count": 0,
   "metadata": {
    "application/vnd.databricks.v1+cell": {
     "cellMetadata": {
      "byteLimit": 2048000,
      "rowLimit": 10000
     },
     "inputWidgets": {},
     "nuid": "a2b6bf1d-592f-4b2a-9df9-91b6c68457c6",
     "showTitle": false,
     "title": ""
    }
   },
   "outputs": [],
   "source": [
    "%matplotlib inline\n",
    "import matplotlib.pyplot as plt\n",
    "import pyspark.sql.functions as F\n",
    "from pyspark.sql import Row\n",
    "from pyspark.sql.types import StructType, StructField, StringType, TimestampNTZType, LongType, DoubleType, IntegerType, DateType\n",
    "import pandas as pd\n",
    "import numpy as np\n",
    "from pyspark.ml.feature import VectorAssembler\n",
    "from pyspark.ml.stat import Correlation\n",
    "\n"
   ]
  },
  {
   "cell_type": "code",
   "execution_count": 0,
   "metadata": {
    "application/vnd.databricks.v1+cell": {
     "cellMetadata": {
      "byteLimit": 2048000,
      "rowLimit": 10000
     },
     "inputWidgets": {},
     "nuid": "e354dfa1-cf13-4cd1-a9b2-b31d21297c9a",
     "showTitle": false,
     "title": ""
    }
   },
   "outputs": [],
   "source": [
    "from pyspark.sql.types import *\n",
    "\n",
    "import pandas as pd\n",
    "\n",
    "\n",
    "directory = '/mnt/2024-team14/'\n",
    "\n",
    "\n",
    "mta_df = spark.read.csv(\"dbfs:/mnt/2024-team14/csvs/MTA_2020mar_2024apr.csv\", header=True)\n",
    "weather_df = spark.read.csv(\"dbfs:/mnt/2024-team14/csvs/weather_data.csv\", header=True)\n",
    "df = spark.read.parquet(directory)\n",
    "\n",
    "# (column with mismatch, desirable type)\n",
    "mismatch_col = [\n",
    "  (\"wav_match_flag\", \"int\"), \n",
    "  (\"airport_fee\", \"double\"), \n",
    "  (\"PULocationID\", \"bigint\"), \n",
    "  (\"DOLocationID\", \"bigint\")\n",
    "  ]\n",
    "df = df.withColumns({c: F.col(c).cast(t) for c, t in mismatch_col})\n",
    "\n",
    "df.cache()"
   ]
  },
  {
   "cell_type": "code",
   "execution_count": 0,
   "metadata": {
    "application/vnd.databricks.v1+cell": {
     "cellMetadata": {
      "byteLimit": 2048000,
      "rowLimit": 10000
     },
     "inputWidgets": {},
     "nuid": "c0730a0f-1a28-4ee9-b99d-26f0af7c0764",
     "showTitle": false,
     "title": ""
    }
   },
   "outputs": [],
   "source": [
    "# extract the year,month,dayofyear,dayofweek and hour from pickup datetime\n",
    "df=df.withColumns({\n",
    "  \"pickupyear\" : F.year(df.pickup_datetime),\n",
    "  \"pickupdayofyear\" : F.dayofyear(df.pickup_datetime),\n",
    "  \"pickuphour\": F.hour(df.pickup_datetime),\n",
    "  \"pickupmonth\": F.month(df.pickup_datetime),\n",
    "  \"pickupdayofweek\":F.dayofweek(df.pickup_datetime)\n",
    "  })\\\n",
    "    .drop(*['dispatching_base_num','originating_base_num','request_datetime','on_scene_datetime','pickup_datetime','dropoff_datetime','PULocationID','DOLocationID','trip_miles','trip_time','base_passenger_fare','tolls','bcf','sales_tax','congestion_surcharge','airport_fee','tips','driver_pay','shared_request_flag','shared_match_flag', 'access_a_ride_flag','wav_request_flag','wav_match_flag',])"
   ]
  },
  {
   "cell_type": "code",
   "execution_count": 0,
   "metadata": {
    "application/vnd.databricks.v1+cell": {
     "cellMetadata": {
      "byteLimit": 2048000,
      "rowLimit": 10000
     },
     "inputWidgets": {},
     "nuid": "a086f0fc-ecca-4df2-9865-7ad16b0248ef",
     "showTitle": false,
     "title": ""
    }
   },
   "outputs": [],
   "source": [
    "df.columns"
   ]
  },
  {
   "cell_type": "code",
   "execution_count": 0,
   "metadata": {
    "application/vnd.databricks.v1+cell": {
     "cellMetadata": {
      "byteLimit": 2048000,
      "rowLimit": 10000
     },
     "inputWidgets": {},
     "nuid": "5fab1dbb-066f-4a26-9a98-2c9d6b5a2904",
     "showTitle": false,
     "title": ""
    }
   },
   "outputs": [
    {
     "output_type": "display_data",
     "data": {
      "text/plain": [
       "Databricks visualization. Run in Databricks to view."
      ]
     },
     "metadata": {
      "application/vnd.databricks.v1.subcommand+json": {
       "baseErrorDetails": null,
       "bindings": {},
       "collapsed": false,
       "command": "%python\n__backend_agg_display_orig = display\n__backend_agg_dfs = []\ndef __backend_agg_display_new(df):\n    __backend_agg_df_modules = [\"pandas.core.frame\", \"databricks.koalas.frame\", \"pyspark.sql.dataframe\", \"pyspark.pandas.frame\", \"pyspark.sql.connect.dataframe\"]\n    if (type(df).__module__ in __backend_agg_df_modules and type(df).__name__ == 'DataFrame') or isinstance(df, list):\n        __backend_agg_dfs.append(df)\n\ndisplay = __backend_agg_display_new\n\ndef __backend_agg_user_code_fn():\n    import base64\n    exec(base64.standard_b64decode(\"ZGlzcGxheShkZik=\").decode())\n\ntry:\n    # run user code\n    __backend_agg_user_code_fn()\n\n    #reset display function\n    display = __backend_agg_display_orig\n\n    if len(__backend_agg_dfs) > 0:\n        # create a temp view\n        if type(__backend_agg_dfs[0]).__module__ == \"databricks.koalas.frame\":\n            # koalas dataframe\n            __backend_agg_dfs[0].to_spark().createOrReplaceTempView(\"DatabricksViewd6fc166\")\n        elif type(__backend_agg_dfs[0]).__module__ == \"pandas.core.frame\" or isinstance(__backend_agg_dfs[0], list):\n            # pandas dataframe\n            spark.createDataFrame(__backend_agg_dfs[0]).createOrReplaceTempView(\"DatabricksViewd6fc166\")\n        else:\n            __backend_agg_dfs[0].createOrReplaceTempView(\"DatabricksViewd6fc166\")\n        #run backend agg\n        display(spark.sql(\"\"\"WITH q AS (select * from DatabricksViewd6fc166) SELECT `hvfhs_license_num`,SUM(`pickupyear`) `column_b7a1fc0e3` FROM q GROUP BY `hvfhs_license_num`\"\"\"))\n    else:\n        displayHTML(\"dataframe no longer exists. If you're using dataframe.display(), use display(dataframe) instead.\")\n\n\nfinally:\n    spark.sql(\"drop view if exists DatabricksViewd6fc166\")\n    display = __backend_agg_display_orig\n    del __backend_agg_display_new\n    del __backend_agg_display_orig\n    del __backend_agg_dfs\n    del __backend_agg_user_code_fn\n\n",
       "commandTitle": "Visualization 1",
       "commandType": "auto",
       "commandVersion": 0,
       "commentThread": [],
       "commentsVisible": false,
       "contentSha256Hex": null,
       "customPlotOptions": {
        "redashChart": [
         {
          "key": "type",
          "value": "CHART"
         },
         {
          "key": "options",
          "value": {
           "alignYAxesAtZero": true,
           "coefficient": 1,
           "columnConfigurationMap": {
            "x": {
             "column": "hvfhs_license_num",
             "id": "column_b7a1fc0e1"
            },
            "y": [
             {
              "column": "pickupyear",
              "id": "column_b7a1fc0e3",
              "transform": "SUM"
             }
            ]
           },
           "dateTimeFormat": "DD/MM/YYYY HH:mm",
           "direction": {
            "type": "counterclockwise"
           },
           "error_y": {
            "type": "data",
            "visible": true
           },
           "globalSeriesType": "column",
           "isAggregationOn": true,
           "legend": {
            "traceorder": "normal"
           },
           "missingValuesAsZero": true,
           "numberFormat": "0,0.[00000]",
           "percentFormat": "0[.]00%",
           "series": {
            "error_y": {
             "type": "data",
             "visible": true
            },
            "stacking": null
           },
           "seriesOptions": {
            "column_b7a1fc0e3": {
             "color": "#8BCAE7",
             "type": "column",
             "yAxis": 0
            }
           },
           "showDataLabels": false,
           "sizemode": "diameter",
           "sortX": true,
           "sortY": true,
           "swappedAxes": false,
           "textFormat": "",
           "useAggregationsUi": true,
           "valuesOptions": {},
           "version": 2,
           "xAxis": {
            "labels": {
             "enabled": true
            },
            "type": "-"
           },
           "yAxis": [
            {
             "type": "-"
            },
            {
             "opposite": true,
             "type": "-"
            }
           ]
          }
         }
        ]
       },
       "datasetPreviewNameToCmdIdMap": {},
       "diffDeletes": [],
       "diffInserts": [],
       "displayType": "redashChart",
       "error": null,
       "errorDetails": null,
       "errorSummary": null,
       "errorTraceType": null,
       "finishTime": 1715462431929,
       "globalVars": {},
       "guid": "",
       "height": "auto",
       "hideCommandCode": false,
       "hideCommandResult": false,
       "iPythonMetadata": null,
       "inputWidgets": {},
       "isLockedInExamMode": false,
       "latestUser": "a user",
       "latestUserId": null,
       "listResultMetadata": [
        [
         "table",
         4
        ]
       ],
       "metadata": {
        "byteLimit": 2048000,
        "rowLimit": 10000
       },
       "nuid": "e2dca758-96f0-41af-863d-4d935c460a14",
       "origId": 0,
       "parentHierarchy": [],
       "pivotAggregation": null,
       "pivotColumns": null,
       "position": 11.458370447158813,
       "resultDbfsErrorMessage": null,
       "resultDbfsStatus": "INLINED_IN_TREE",
       "results": null,
       "showCommandTitle": false,
       "startTime": 1715462322566,
       "state": "input",
       "streamStates": {},
       "subcommandOptions": {
        "queryPlan": {
         "groups": [
          {
           "column": "hvfhs_license_num",
           "type": "column"
          }
         ],
         "selects": [
          {
           "column": "hvfhs_license_num",
           "type": "column"
          },
          {
           "alias": "column_b7a1fc0e3",
           "args": [
            {
             "column": "pickupyear",
             "type": "column"
            }
           ],
           "function": "SUM",
           "type": "function"
          }
         ]
        }
       },
       "submitTime": 1715462322165,
       "subtype": "tableResultSubCmd.visualization",
       "tableResultIndex": 0,
       "useConsistentColors": false,
       "version": "CommandV1",
       "width": "auto",
       "workflows": null,
       "xColumns": null,
       "yColumns": null
      }
     },
     "output_type": "display_data"
    }
   ],
   "source": [
    "display(df)"
   ]
  },
  {
   "cell_type": "markdown",
   "metadata": {
    "application/vnd.databricks.v1+cell": {
     "cellMetadata": {},
     "inputWidgets": {},
     "nuid": "dd556739-30e9-4e7f-91c7-41f7c04d66eb",
     "showTitle": false,
     "title": ""
    }
   },
   "source": [
    "#### Trip count yearly chart"
   ]
  },
  {
   "cell_type": "code",
   "execution_count": 0,
   "metadata": {
    "application/vnd.databricks.v1+cell": {
     "cellMetadata": {
      "byteLimit": 2048000,
      "rowLimit": 10000
     },
     "inputWidgets": {},
     "nuid": "45b5e7b4-36ba-4c20-a99a-6267b8093fa7",
     "showTitle": false,
     "title": ""
    }
   },
   "outputs": [],
   "source": [
    "# trip counts by year (line chart)\n",
    "df_year = df.groupby(\"hvfhs_license_num\",\"pickupyear\").agg(F.count(\"*\").alias(\"trip_count\")).orderBy(\"pickupyear\")\n",
    "df_02=df_year.where(\"hvfhs_license_num = 'HV0002'\").toPandas()\n",
    "df_03=df_year.where(\"hvfhs_license_num = 'HV0003'\").toPandas()\n",
    "df_04=df_year.where(\"hvfhs_license_num = 'HV0004'\").toPandas()\n",
    "df_05=df_year.where(\"hvfhs_license_num = 'HV0005'\").toPandas()\n",
    "plt.figure(figsize=(10,6))\n",
    "plt.plot(df_02['pickupyear'],df_02['trip_count'],color='red',linewidth=5)\n",
    "plt.plot(df_03['pickupyear'],df_03['trip_count'],color='yellow',linewidth=5)\n",
    "plt.plot(df_04['pickupyear'],df_04['trip_count'],color='blue',linewidth=5)\n",
    "plt.plot(df_05['pickupyear'],df_05['trip_count'],color='green',linewidth=5)\n",
    "plt.title('trips count by year')\n",
    "plt.xlabel('year')\n",
    "plt.ylabel('trip counts')\n",
    "plt.legend([\"Juno\",\"Uber\",\"Via\",\"Lyft\"])\n",
    "plt.grid(True)\n",
    "plt.show()"
   ]
  },
  {
   "cell_type": "markdown",
   "metadata": {
    "application/vnd.databricks.v1+cell": {
     "cellMetadata": {},
     "inputWidgets": {},
     "nuid": "ed56ff0e-32ca-4e68-8499-9180f671f61b",
     "showTitle": false,
     "title": ""
    }
   },
   "source": [
    "#### Trip count hourly chart"
   ]
  },
  {
   "cell_type": "code",
   "execution_count": 0,
   "metadata": {
    "application/vnd.databricks.v1+cell": {
     "cellMetadata": {
      "byteLimit": 2048000,
      "rowLimit": 10000
     },
     "inputWidgets": {},
     "nuid": "04d2f027-4ae5-4c0b-aaa3-5ec5612efe17",
     "showTitle": false,
     "title": ""
    }
   },
   "outputs": [],
   "source": [
    "# trip count by hour (line chart)\n",
    "df_hour = df.groupby(\"hvfhs_license_num\",\"pickuphour\").agg(F.count(\"*\").alias(\"trip_count\")).orderBy(\"pickuphour\")\n",
    "# Filter the data for each license number separately\n",
    "df_02=df_hour.where(\"hvfhs_license_num = 'HV0002'\").toPandas()\n",
    "df_03=df_hour.where(\"hvfhs_license_num = 'HV0003'\").toPandas()\n",
    "df_04=df_hour.where(\"hvfhs_license_num = 'HV0004'\").toPandas()\n",
    "df_05=df_hour.where(\"hvfhs_license_num = 'HV0005'\").toPandas()\n",
    "plt.figure(figsize=(10,6))\n",
    "plt.plot(df_02['pickuphour'],df_02['trip_count'])\n",
    "plt.plot(df_03['pickuphour'],df_03['trip_count'])\n",
    "plt.plot(df_04['pickuphour'],df_04['trip_count'])\n",
    "plt.plot(df_05['pickuphour'],df_05['trip_count'])\n",
    "plt.title('trips count by hour')\n",
    "plt.xlabel('hour')\n",
    "plt.ylabel('trip counts')\n",
    "plt.legend([\"Juno\",\"Uber\",\"Via\",\"Lyft\"])\n",
    "plt.grid(True)\n",
    "plt.show()"
   ]
  },
  {
   "cell_type": "markdown",
   "metadata": {
    "application/vnd.databricks.v1+cell": {
     "cellMetadata": {},
     "inputWidgets": {},
     "nuid": "efc0e601-047f-4f2c-aa5c-797e52715a74",
     "showTitle": false,
     "title": ""
    }
   },
   "source": [
    "#### Trip count daily chart"
   ]
  },
  {
   "cell_type": "code",
   "execution_count": 0,
   "metadata": {
    "application/vnd.databricks.v1+cell": {
     "cellMetadata": {
      "byteLimit": 2048000,
      "rowLimit": 10000
     },
     "inputWidgets": {},
     "nuid": "2951404a-1d5b-4dbd-9525-563f54a7f852",
     "showTitle": false,
     "title": ""
    }
   },
   "outputs": [],
   "source": [
    "# trip count by dates (line chart)\n",
    "df_date = df.groupby(\"hvfhs_license_num\",\"pickupdayofyear\").agg(F.count(\"*\").alias(\"trip_count\")).orderBy(\"pickupdayofyear\")\n",
    "df_02=df_date.where(\"hvfhs_license_num = 'HV0002'\").toPandas()\n",
    "df_03=df_date.where(\"hvfhs_license_num = 'HV0003'\").toPandas()\n",
    "df_04=df_date.where(\"hvfhs_license_num = 'HV0004'\").toPandas()\n",
    "df_05=df_date.where(\"hvfhs_license_num = 'HV0005'\").toPandas()\n",
    "plt.figure(figsize=(10,6))\n",
    "plt.plot(df_02['pickupdayofyear'],df_02['trip_count'],color='red',linewidth=5)\n",
    "plt.plot(df_03['pickupdayofyear'],df_03['trip_count'],color='yellow',linewidth=5)\n",
    "plt.plot(df_04['pickupdayofyear'],df_04['trip_count'],color='blue',linewidth=5)\n",
    "plt.plot(df_05['pickupdayofyear'],df_05['trip_count'],color='green',linewidth=5)\n",
    "plt.title('trips count by date')\n",
    "plt.xlabel('dates')\n",
    "plt.ylabel('trip counts')\n",
    "plt.legend([\"Juno\",\"Uber\",\"Via\",\"Lyft\"])\n",
    "plt.grid(True)\n",
    "plt.show()"
   ]
  },
  {
   "cell_type": "markdown",
   "metadata": {
    "application/vnd.databricks.v1+cell": {
     "cellMetadata": {},
     "inputWidgets": {},
     "nuid": "8c08d239-367f-45ad-a808-080b5dd103b5",
     "showTitle": false,
     "title": ""
    }
   },
   "source": [
    "#### Trip count monthly chart"
   ]
  },
  {
   "cell_type": "code",
   "execution_count": 0,
   "metadata": {
    "application/vnd.databricks.v1+cell": {
     "cellMetadata": {
      "byteLimit": 2048000,
      "rowLimit": 10000
     },
     "inputWidgets": {},
     "nuid": "e63a3b4a-6d4b-4ee2-bd5f-54ec0335487c",
     "showTitle": false,
     "title": ""
    }
   },
   "outputs": [],
   "source": [
    "# trip count by month\n",
    "df_month = df.groupby(\"hvfhs_license_num\",\"pickupmonth\").agg(F.count(\"*\").alias(\"trip_count\")).orderBy(\"pickupmonth\")\n",
    "df_02=df_month.where(\"hvfhs_license_num = 'HV0002'\").toPandas()\n",
    "df_03=df_month.where(\"hvfhs_license_num = 'HV0003'\").toPandas()\n",
    "df_04=df_month.where(\"hvfhs_license_num = 'HV0004'\").toPandas()\n",
    "df_05=df_month.where(\"hvfhs_license_num = 'HV0005'\").toPandas()\n",
    "plt.figure(figsize=(10,6))\n",
    "plt.plot(df_02['pickupmonth'],df_02['trip_count'])\n",
    "plt.plot(df_03['pickupmonth'],df_03['trip_count'])\n",
    "plt.plot(df_04['pickupmonth'],df_04['trip_count'])\n",
    "plt.plot(df_05['pickupmonth'],df_05['trip_count'])\n",
    "plt.title('trips count by months')\n",
    "plt.xlabel('months')\n",
    "plt.ylabel('trip counts')\n",
    "plt.show()"
   ]
  },
  {
   "cell_type": "markdown",
   "metadata": {
    "application/vnd.databricks.v1+cell": {
     "cellMetadata": {},
     "inputWidgets": {},
     "nuid": "a5d21ac1-8db7-43b0-abe9-ef83695e5ac0",
     "showTitle": false,
     "title": ""
    }
   },
   "source": [
    "#### Trip count montly chart by affiliated ride-share companies"
   ]
  },
  {
   "cell_type": "code",
   "execution_count": 0,
   "metadata": {
    "application/vnd.databricks.v1+cell": {
     "cellMetadata": {
      "byteLimit": 2048000,
      "rowLimit": 10000
     },
     "inputWidgets": {},
     "nuid": "180ca7a2-53b4-4511-98cc-8de000aeae0d",
     "showTitle": false,
     "title": ""
    }
   },
   "outputs": [],
   "source": [
    "# trip count by month (grouped bar chart)\n",
    "df_companies_month=df.groupby(\"hvfhs_license_num\",\"pickupmonth\").count().orderBy(\"hvfhs_license_num\",\"pickupmonth\")\n",
    "df_cm = df_companies_month.toPandas()\n",
    "cm_df=df_cm.pivot(index='pickupmonth',columns='hvfhs_license_num',values='count')\n",
    "cm_df.plot(kind='bar',figsize=(10,7),width=0.8)\n",
    "plt.title('Trips by Companies and Month')\n",
    "plt.xlabel('Month')\n",
    "plt.ylabel('Number of Trips')\n",
    "plt.xticks(rotation=0)  # Rotates the x labels to horizontal\n",
    "plt.legend([\"Juno\",\"Uber\",\"Via\",\"Lyft\"])\n",
    "plt.tight_layout()\n",
    "plt.grid(True)\n",
    "plt.show()"
   ]
  },
  {
   "cell_type": "markdown",
   "metadata": {
    "application/vnd.databricks.v1+cell": {
     "cellMetadata": {},
     "inputWidgets": {},
     "nuid": "c9e8a9d6-c23e-4714-9474-e1b757c36c66",
     "showTitle": false,
     "title": ""
    }
   },
   "source": [
    "#### Trip count weekly chart by affiliated ride-share companies"
   ]
  },
  {
   "cell_type": "code",
   "execution_count": 0,
   "metadata": {
    "application/vnd.databricks.v1+cell": {
     "cellMetadata": {
      "byteLimit": 2048000,
      "rowLimit": 10000
     },
     "inputWidgets": {},
     "nuid": "5ddbc4dd-102d-4763-ad4e-6c546522fc79",
     "showTitle": false,
     "title": ""
    }
   },
   "outputs": [],
   "source": [
    "# trip count by month and dayofweek (stacked bar chart)\n",
    "df_month_week = df.groupby(\"pickupmonth\",\"pickupdayofweek\").agg(F.count(\"*\").alias(\"trip_count\")).orderBy(\"pickupmonth\",\"pickupdayofweek\")\n",
    "df_mw=df_month_week.toPandas()\n",
    "pivoted_df=df_mw.pivot(index=\"pickupmonth\",columns='pickupdayofweek',values='trip_count')\n",
    "pivoted_df.columns = [ 'Mon', 'Tue', 'Wed', 'Thu', 'Fri', 'Sat','Sun']\n",
    "pivoted_df.index= ['January','February','March','April','May','June','July','August','September','October','November','December']\n",
    "pivoted_df.plot(kind='bar', stacked=True, figsize=(10, 7))\n",
    "plt.title('Trips by Day and Month')\n",
    "plt.xlabel('Month')\n",
    "plt.ylabel('Number of Trips')\n",
    "plt.legend(title='Day of Week')\n",
    "plt.grid(True)\n",
    "plt.show()"
   ]
  }
 ],
 "metadata": {
  "application/vnd.databricks.v1+notebook": {
   "dashboards": [
    {
     "elements": [],
     "globalVars": {},
     "guid": "",
     "layoutOption": {
      "grid": true,
      "stack": true
     },
     "nuid": "513590e0-c18b-41bb-93c3-884422db6a23",
     "origId": 4281566180903762,
     "title": "Untitled",
     "version": "DashboardViewV1",
     "width": 1024
    }
   ],
   "language": "python",
   "notebookMetadata": {
    "pythonIndentUnit": 2
   },
   "notebookName": "data_visualization",
   "widgets": {}
  }
 },
 "nbformat": 4,
 "nbformat_minor": 0
}
