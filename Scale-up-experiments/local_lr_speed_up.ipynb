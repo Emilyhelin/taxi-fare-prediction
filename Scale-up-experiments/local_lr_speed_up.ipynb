{
 "cells": [
  {
   "cell_type": "markdown",
   "metadata": {
    "application/vnd.databricks.v1+cell": {
     "cellMetadata": {
      "byteLimit": 2048000,
      "rowLimit": 10000
     },
     "inputWidgets": {},
     "nuid": "ad27a295-2824-414e-9147-c21a36992d6a",
     "showTitle": false,
     "title": ""
    },
    "id": "_5pP76M0Ny-b"
   },
   "source": [
    "### Size-up experiment on Feb 2024 Yellow Taxi Data"
   ]
  },
  {
   "cell_type": "code",
   "execution_count": 0,
   "metadata": {
    "application/vnd.databricks.v1+cell": {
     "cellMetadata": {
      "byteLimit": 2048000,
      "rowLimit": 10000
     },
     "inputWidgets": {},
     "nuid": "9bcc3d63-7914-4146-919c-efc501af7985",
     "showTitle": false,
     "title": ""
    },
    "id": "IazjNdy-Ny-e"
   },
   "outputs": [],
   "source": [
    "cores = [1, 2, 4, 8, 12]"
   ]
  },
  {
   "cell_type": "code",
   "execution_count": 0,
   "metadata": {
    "application/vnd.databricks.v1+cell": {
     "cellMetadata": {
      "byteLimit": 2048000,
      "rowLimit": 10000
     },
     "inputWidgets": {},
     "nuid": "a2b6bf1d-592f-4b2a-9df9-91b6c68457c6",
     "showTitle": false,
     "title": ""
    },
    "id": "IzTOYIQaNy-d"
   },
   "outputs": [],
   "source": [
    "%matplotlib inline\n",
    "import matplotlib.pyplot as plt\n",
    "import pyspark.sql.functions as F\n",
    "from pyspark.sql import Row\n",
    "\n",
    "from pyspark.sql.types import DoubleType, DateType\n",
    "\n",
    "import pandas as pd\n",
    "\n",
    "from pyspark.sql import SparkSession"
   ]
  },
  {
   "cell_type": "code",
   "execution_count": 0,
   "metadata": {
    "application/vnd.databricks.v1+cell": {
     "cellMetadata": {},
     "inputWidgets": {},
     "nuid": "9827f882-16bd-452f-9785-c9ecfadc9d81",
     "showTitle": false,
     "title": ""
    }
   },
   "outputs": [],
   "source": [
    "directory = '/mnt/2024-team14/yellow_taxi'\n",
    "\n",
    "cols = [ # cols to rename and reformat\n",
    "    (\"tpep_pickup_datetime\", \"Date\", DateType()),\n",
    "    (\"trip_distance\", \"trip_miles\", DoubleType()),\n",
    "    (\"fare_amount\", \"base_passenger_fare\", DoubleType())\n",
    "]"
   ]
  },
  {
   "cell_type": "code",
   "execution_count": 0,
   "metadata": {
    "application/vnd.databricks.v1+cell": {
     "cellMetadata": {},
     "inputWidgets": {},
     "nuid": "97f59607-d1dd-46b6-a7a9-30851ba2a349",
     "showTitle": false,
     "title": ""
    }
   },
   "outputs": [],
   "source": [
    "column_names = ['trip_km', 'trip_time', 'base_passenger_fare']"
   ]
  },
  {
   "cell_type": "code",
   "execution_count": 0,
   "metadata": {
    "application/vnd.databricks.v1+cell": {
     "cellMetadata": {
      "byteLimit": 2048000,
      "rowLimit": 10000
     },
     "inputWidgets": {},
     "nuid": "85bd7350-cdf5-4883-9341-bc813194858b",
     "showTitle": false,
     "title": ""
    },
    "id": "xcCfJRO3Ny-e"
   },
   "outputs": [],
   "source": [
    "from sklearn.linear_model import LinearRegression\n",
    "import time\n",
    "\n",
    "def build_model(partition_data_iter):\n",
    "  start = time.time()\n",
    "\n",
    "  partition_data_df = pd.DataFrame(partition_data_iter, columns=column_names)\n",
    "  reg = LinearRegression()\n",
    "  X_train = partition_data_df[['trip_km', 'trip_time']]\n",
    "  y_train = partition_data_df[\"base_passenger_fare\"]\n",
    "  model = reg.fit(X_train.values,y_train.values)\n",
    "\n",
    "  end = time.time()\n",
    "  return [(model, end - start)]"
   ]
  },
  {
   "cell_type": "code",
   "execution_count": 0,
   "metadata": {
    "application/vnd.databricks.v1+cell": {
     "cellMetadata": {},
     "inputWidgets": {},
     "nuid": "44e60d8a-3a63-4f41-a746-4d48b8b0046d",
     "showTitle": false,
     "title": ""
    }
   },
   "outputs": [],
   "source": [
    "def predict(instance):\n",
    "  return[m.predict([instance[:-1]])[0] for m in models]"
   ]
  },
  {
   "cell_type": "code",
   "execution_count": 0,
   "metadata": {
    "application/vnd.databricks.v1+cell": {
     "cellMetadata": {},
     "inputWidgets": {},
     "nuid": "f205b077-7912-4c90-b713-ce4c97acaa1f",
     "showTitle": false,
     "title": ""
    }
   },
   "outputs": [],
   "source": [
    "def agg_predictions(preds):\n",
    "  mean = sum(preds) / len(preds)\n",
    "  return float(mean)"
   ]
  },
  {
   "cell_type": "code",
   "execution_count": 0,
   "metadata": {
    "application/vnd.databricks.v1+cell": {
     "cellMetadata": {},
     "inputWidgets": {},
     "nuid": "e1268081-c002-43a7-a6ae-39b10449a5e2",
     "showTitle": false,
     "title": ""
    }
   },
   "outputs": [],
   "source": [
    "def transform(instance):\n",
    "  return Row(**instance.asDict(), \\\n",
    "             raw_prediction = agg_predictions(predict(instance)))"
   ]
  },
  {
   "cell_type": "code",
   "execution_count": 0,
   "metadata": {
    "application/vnd.databricks.v1+cell": {
     "cellMetadata": {
      "byteLimit": 2048000,
      "rowLimit": 10000
     },
     "inputWidgets": {},
     "nuid": "c70dd1f9-6b70-4b6c-811a-876fb3ab2665",
     "showTitle": false,
     "title": ""
    },
    "colab": {
     "base_uri": "https://localhost:8080/",
     "height": 503
    },
    "id": "om8gFpg66ueO",
    "outputId": "b76c4289-20aa-4465-b476-450b4c577da0"
   },
   "outputs": [],
   "source": [
    "for _ in range(10):\n",
    "  for c in cores:\n",
    "    spark = SparkSession \\\n",
    "        .builder \\\n",
    "        .master(f\"local[{c}]\") \\\n",
    "        .appName(\"Local LR with {c} partitions\") \\\n",
    "        .config(\"spark.sql.parquet.enableVectorizedReader\", \"false\") \\\n",
    "        .getOrCreate()\n",
    "\n",
    "    # swith the latest spark version to older one so that it tolerates some data format issues\n",
    "    spark.conf.set(\"spark.sql.legacy.timeParserPolicy\", \"LEGACY\")\n",
    "\n",
    "    \"\"\"\n",
    "    in order to avoid \"Parquet column cannot be converted\" error, we need to disable vectorized reader when we have decimal values in our columns.\n",
    "    refer to https://learn.microsoft.com/en-us/answers/questions/853861/parquet-column-cannot-be-converted for further info\n",
    "    \"\"\"\n",
    "    # spark.conf.set(\"spark.sql.parquet.enableVectorizedReader\", \"false\")\n",
    "\n",
    "    sc = spark.sparkContext\n",
    "\n",
    "    # Read the Parquet file with schema inference\n",
    "    df = spark.read.parquet(directory) \\\n",
    "    .select(\"tpep_pickup_datetime\", \"tpep_dropoff_datetime\", \"trip_distance\", \"fare_amount\")\n",
    "\n",
    "    # data pruning\n",
    "    df = df.withColumns({n: F.col(o).cast(t) for o, n, t in cols}) \\\n",
    "    .withColumns({\n",
    "      \"trip_time\": F.unix_timestamp(F.col(\"tpep_dropoff_datetime\")) - F.unix_timestamp(F.col(\"tpep_pickup_datetime\")),\n",
    "      \"trip_km\": F.col(\"trip_miles\") * 0.621371\n",
    "      }) \\\n",
    "    .drop(*[\"tpep_pickup_datetime\", \"tpep_dropoff_datetime\", \"trip_distance\", \"trip_miles\", \"Date\", \"fare_amount\"])\n",
    "    \n",
    "    df.cache()\n",
    "\n",
    "    # split data into train and test\n",
    "    train, test = df.randomSplit([0.7, 0.3], seed=555)\n",
    "    \n",
    "    train_rdd = train.rdd.repartition(c).cache()\n",
    "    test_rdd = test.rdd.repartition(c)\n",
    "\n",
    "    train_rdd.count()\n",
    "    \n",
    "    start = time.time()\n",
    "    models_runtimes = train_rdd.mapPartitions(build_model).collect()\n",
    "    models, runtimes = zip(*models_runtimes)\n",
    "    end = time.time()\n",
    "\n",
    "    # Printing at the end of the file a log with the number of cores, percentage,\n",
    "    # building time and average runtime of mapPartitions:\n",
    "    with open(\"speedup.csv\", \"a\") as f:\n",
    "        print(\n",
    "            f\"{c},{100},{end - start},{sum(runtimes)/len(runtimes)}\",\n",
    "            file=f,\n",
    "        )"
   ]
  }
 ],
 "metadata": {
  "application/vnd.databricks.v1+notebook": {
   "dashboards": [],
   "language": "python",
   "notebookMetadata": {
    "pythonIndentUnit": 2
   },
   "notebookName": "local_lr_speed_up",
   "widgets": {}
  },
  "colab": {
   "provenance": []
  },
  "kernelspec": {
   "display_name": "Python 3",
   "name": "python3"
  },
  "language_info": {
   "name": "python"
  }
 },
 "nbformat": 4,
 "nbformat_minor": 0
}
