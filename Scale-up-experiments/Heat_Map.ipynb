{
 "cells": [
  {
   "cell_type": "code",
   "execution_count": 0,
   "metadata": {
    "application/vnd.databricks.v1+cell": {
     "cellMetadata": {},
     "inputWidgets": {},
     "nuid": "60f4d70b-3971-4128-b3b2-e5597b466ecd",
     "showTitle": false,
     "title": ""
    }
   },
   "outputs": [],
   "source": [
    "!pip install descartes\n",
    "!pip install geopandas\n",
    "import pandas as pd\n",
    "import numpy as np\n",
    "import geopandas\n",
    "import pandas as pd\n",
    "import matplotlib.pyplot as plt\n",
    "import descartes\n",
    "from shapely.geometry import Point, Polygon\n",
    "from shapely import wkt\n",
    "%matplotlib inline"
   ]
  },
  {
   "cell_type": "code",
   "execution_count": 0,
   "metadata": {
    "application/vnd.databricks.v1+cell": {
     "cellMetadata": {},
     "inputWidgets": {},
     "nuid": "cdd26131-74da-41a8-96e5-4493be9d6583",
     "showTitle": false,
     "title": ""
    }
   },
   "outputs": [],
   "source": [
    "df = pd.read_csv('taxi_zones.csv')\n",
    "df.head()"
   ]
  },
  {
   "cell_type": "code",
   "execution_count": 0,
   "metadata": {
    "application/vnd.databricks.v1+cell": {
     "cellMetadata": {},
     "inputWidgets": {},
     "nuid": "8d175a4a-aaf7-4453-9dd2-3e611e63aa67",
     "showTitle": false,
     "title": ""
    }
   },
   "outputs": [],
   "source": [
    "df.info()"
   ]
  },
  {
   "cell_type": "code",
   "execution_count": 0,
   "metadata": {
    "application/vnd.databricks.v1+cell": {
     "cellMetadata": {},
     "inputWidgets": {},
     "nuid": "c3a0f077-a065-48f9-8f8c-0a0f997fb35f",
     "showTitle": false,
     "title": ""
    }
   },
   "outputs": [],
   "source": [
    "df_pu = pd.read_csv('PU_Zone.csv')\n",
    "df_do = pd.read_csv('DO_Zone.csv')\n",
    "df_viz = pd.read_csv('data_viz_by_zone.csv')"
   ]
  },
  {
   "cell_type": "code",
   "execution_count": 0,
   "metadata": {
    "application/vnd.databricks.v1+cell": {
     "cellMetadata": {},
     "inputWidgets": {},
     "nuid": "45ff70f7-3d8a-4e49-87f4-bab3772fdc52",
     "showTitle": false,
     "title": ""
    }
   },
   "outputs": [],
   "source": [
    "df = df.merge(df_pu,how='left',on='zone')\n",
    "df = df.merge(df_do,how='left',on='zone')\n",
    "df = df.merge(df_viz,how='left',on='zone')\n",
    "df = df.fillna(0)"
   ]
  },
  {
   "cell_type": "code",
   "execution_count": 0,
   "metadata": {
    "application/vnd.databricks.v1+cell": {
     "cellMetadata": {},
     "inputWidgets": {},
     "nuid": "ac8b0ceb-fa4b-4766-a0d5-07a5e2b8102f",
     "showTitle": false,
     "title": ""
    }
   },
   "outputs": [],
   "source": [
    "df = df.astype({'do_count': int})"
   ]
  },
  {
   "cell_type": "code",
   "execution_count": 0,
   "metadata": {
    "application/vnd.databricks.v1+cell": {
     "cellMetadata": {},
     "inputWidgets": {},
     "nuid": "06002cb6-0b63-4cfa-82d6-a59c995340fa",
     "showTitle": false,
     "title": ""
    }
   },
   "outputs": [],
   "source": [
    "df.info()"
   ]
  },
  {
   "cell_type": "code",
   "execution_count": 0,
   "metadata": {
    "application/vnd.databricks.v1+cell": {
     "cellMetadata": {},
     "inputWidgets": {},
     "nuid": "88409d2b-4565-4817-8be5-96676726e61a",
     "showTitle": false,
     "title": ""
    }
   },
   "outputs": [],
   "source": [
    "df.head()"
   ]
  },
  {
   "cell_type": "code",
   "execution_count": 0,
   "metadata": {
    "application/vnd.databricks.v1+cell": {
     "cellMetadata": {},
     "inputWidgets": {},
     "nuid": "02ae8b9b-bbbf-45f3-beef-762a319d719f",
     "showTitle": false,
     "title": ""
    }
   },
   "outputs": [],
   "source": [
    "df_geo= df\n",
    "df_geo[\"the_geom\"] = df_geo[\"the_geom\"].apply(wkt.loads)"
   ]
  },
  {
   "cell_type": "code",
   "execution_count": 0,
   "metadata": {
    "application/vnd.databricks.v1+cell": {
     "cellMetadata": {},
     "inputWidgets": {},
     "nuid": "30d24276-f255-4db4-8aa9-40ea4fac073a",
     "showTitle": false,
     "title": ""
    }
   },
   "outputs": [],
   "source": [
    "df_geo = geopandas.GeoDataFrame(df_geo,geometry='the_geom')"
   ]
  },
  {
   "cell_type": "code",
   "execution_count": 0,
   "metadata": {
    "application/vnd.databricks.v1+cell": {
     "cellMetadata": {},
     "inputWidgets": {},
     "nuid": "3db274c7-0aa6-4cad-9eb1-3959c43a258b",
     "showTitle": false,
     "title": ""
    }
   },
   "outputs": [],
   "source": [
    "#street_map = gpd.read_file('cb_2018_36_bg_500k.shx')\n",
    "fig, ax = plt.subplots(figsize=(10,10))\n",
    "df_geo.plot(column=\"pu_count\",legend= True, legend_kwds={\"label\": \"Shape \",\"orientation\":\"horizontal\"},ax=ax)\n",
    "plt.savefig(\"Pickup_total.png\")"
   ]
  },
  {
   "cell_type": "code",
   "execution_count": 0,
   "metadata": {
    "application/vnd.databricks.v1+cell": {
     "cellMetadata": {},
     "inputWidgets": {},
     "nuid": "b3d7c1ce-3ef0-4464-ae0b-b704628e74b3",
     "showTitle": false,
     "title": ""
    }
   },
   "outputs": [],
   "source": [
    "fig, ax = plt.subplots(figsize=(10,10))\n",
    "df_geo.plot(column=\"do_count\",legend= True, legend_kwds={\"label\": \"Shape \",\"orientation\":\"horizontal\"},cmap='OrRd',ax=ax)"
   ]
  },
  {
   "cell_type": "code",
   "execution_count": 0,
   "metadata": {
    "application/vnd.databricks.v1+cell": {
     "cellMetadata": {},
     "inputWidgets": {},
     "nuid": "39580c61-5201-462e-9baa-17493507e66d",
     "showTitle": false,
     "title": ""
    }
   },
   "outputs": [],
   "source": [
    "fig, ax = plt.subplots(figsize=(10,10))\n",
    "df_geo.plot(column=\"overnight_count\",legend= True, legend_kwds={\"label\": \"Shape \",\"orientation\":\"horizontal\"},cmap='OrRd',ax=ax)\n",
    "plt.savefig(\"Pickup_overnight.png\")"
   ]
  },
  {
   "cell_type": "code",
   "execution_count": 0,
   "metadata": {
    "application/vnd.databricks.v1+cell": {
     "cellMetadata": {},
     "inputWidgets": {},
     "nuid": "24f45ee3-97f2-4390-b20c-7b5e5ff7e63e",
     "showTitle": false,
     "title": ""
    }
   },
   "outputs": [],
   "source": [
    "fig, ax = plt.subplots(figsize=(10,10))\n",
    "df_geo.plot(column=\"rushhour_count\",legend= True, legend_kwds={\"label\": \"Shape \",\"orientation\":\"horizontal\"},cmap='OrRd',ax=ax)\n",
    "plt.savefig(\"Pickup_rushhour.png\")"
   ]
  },
  {
   "cell_type": "code",
   "execution_count": 0,
   "metadata": {
    "application/vnd.databricks.v1+cell": {
     "cellMetadata": {},
     "inputWidgets": {},
     "nuid": "8ebf7d37-da92-42c2-b2d4-edee40d8d497",
     "showTitle": false,
     "title": ""
    }
   },
   "outputs": [],
   "source": [
    "fig, ax = plt.subplots(figsize=(10,10))\n",
    "df_geo.plot(column=\"weekend_count\",legend= True, legend_kwds={\"label\": \"Shape \",\"orientation\":\"horizontal\"},cmap='OrRd',ax=ax)"
   ]
  },
  {
   "cell_type": "code",
   "execution_count": 0,
   "metadata": {
    "application/vnd.databricks.v1+cell": {
     "cellMetadata": {},
     "inputWidgets": {},
     "nuid": "29b9dd9b-6448-4bc8-acdd-647f50eb50f9",
     "showTitle": false,
     "title": ""
    }
   },
   "outputs": [],
   "source": [
    "df1.to_csv('Trip.csv', index=False)"
   ]
  }
 ],
 "metadata": {
  "application/vnd.databricks.v1+notebook": {
   "dashboards": [],
   "language": "python",
   "notebookMetadata": {},
   "notebookName": "Heat_Map",
   "widgets": {}
  },
  "kernelspec": {
   "display_name": "Python 3 (ipykernel)",
   "language": "python",
   "name": "python3"
  },
  "language_info": {
   "codemirror_mode": {
    "name": "ipython",
    "version": 3
   },
   "file_extension": ".py",
   "mimetype": "text/x-python",
   "name": "python",
   "nbconvert_exporter": "python",
   "pygments_lexer": "ipython3",
   "version": "3.9.12"
  }
 },
 "nbformat": 4,
 "nbformat_minor": 0
}
